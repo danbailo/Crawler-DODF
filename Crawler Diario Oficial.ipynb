{
 "cells": [
  {
   "cell_type": "code",
   "execution_count": 1,
   "metadata": {},
   "outputs": [],
   "source": [
    "import requests\n",
    "from bs4 import BeautifulSoup\n",
    "import json"
   ]
  },
  {
   "cell_type": "code",
   "execution_count": 5,
   "metadata": {},
   "outputs": [],
   "source": [
    "base_url = \"https://www.dodf.df.gov.br/\"\n",
    "base_url = \"https://www.dodf.df.gov.br/listar\""
   ]
  },
  {
   "cell_type": "code",
   "execution_count": 3,
   "metadata": {},
   "outputs": [],
   "source": [
    "import requests\n",
    "\n",
    "cookies = {\n",
    "    '_ga': 'GA1.4.1676642850.1569274904',\n",
    "    '_gid': 'GA1.4.30087383.1569274904',\n",
    "    'PHPSESSID': 'c8gp0cncq0bshqvnkq5ng3d0g7',\n",
    "}\n",
    "\n",
    "headers = {\n",
    "    'Sec-Fetch-Mode': 'cors',\n",
    "    'Sec-Fetch-Site': 'same-origin',\n",
    "    'Origin': 'https://www.dodf.df.gov.br',\n",
    "    'Accept-Encoding': 'gzip, deflate, br',\n",
    "    'Accept-Language': 'en,en-US;q=0.9,pt-BR;q=0.8,pt;q=0.7',\n",
    "    'User-Agent': 'Mozilla/5.0 (X11; Linux x86_64) AppleWebKit/537.36 (KHTML, like Gecko) Chrome/77.0.3865.90 Safari/537.36',\n",
    "    'Accept': '*/*',\n",
    "    'Referer': 'https://www.dodf.df.gov.br/listar',\n",
    "    'X-Requested-With': 'XMLHttpRequest',\n",
    "    'Connection': 'keep-alive',\n",
    "    'Content-Length': '0',\n",
    "}"
   ]
  },
  {
   "cell_type": "code",
   "execution_count": 9,
   "metadata": {},
   "outputs": [],
   "source": [
    "def crawler_params(directory):\n",
    "    params = (\n",
    "    ('dir', directory),)\n",
    "    return params"
   ]
  },
  {
   "cell_type": "code",
   "execution_count": 36,
   "metadata": {},
   "outputs": [],
   "source": [
    "params = crawler_params('/')\n",
    "response = requests.post(base_url, headers=headers, params=params, cookies=cookies)"
   ]
  },
  {
   "cell_type": "code",
   "execution_count": 37,
   "metadata": {},
   "outputs": [],
   "source": [
    "years = json.loads(response.text)['data'][:4]"
   ]
  },
  {
   "cell_type": "code",
   "execution_count": 38,
   "metadata": {},
   "outputs": [],
   "source": [
    "years = list(map(lambda x:str(x),years))"
   ]
  },
  {
   "cell_type": "code",
   "execution_count": 39,
   "metadata": {},
   "outputs": [
    {
     "data": {
      "text/plain": [
       "['2019', '2018', '2017', '2016']"
      ]
     },
     "execution_count": 39,
     "metadata": {},
     "output_type": "execute_result"
    }
   ],
   "source": [
    "years"
   ]
  },
  {
   "cell_type": "code",
   "execution_count": 30,
   "metadata": {},
   "outputs": [],
   "source": [
    "params = crawler_params('2019')\n",
    "response = requests.post(base_url, headers=headers, params=params, cookies=cookies)"
   ]
  },
  {
   "cell_type": "code",
   "execution_count": 40,
   "metadata": {},
   "outputs": [],
   "source": [
    "months = json.loads(response.text)['data']"
   ]
  },
  {
   "cell_type": "code",
   "execution_count": 43,
   "metadata": {},
   "outputs": [],
   "source": [
    "params = crawler_params('2019/09_Setembro')\n",
    "response = requests.post(base_url, headers=headers, params=params, cookies=cookies)"
   ]
  },
  {
   "cell_type": "code",
   "execution_count": 73,
   "metadata": {},
   "outputs": [],
   "source": [
    "docs = json.loads(response.text)['data']"
   ]
  },
  {
   "cell_type": "code",
   "execution_count": 74,
   "metadata": {},
   "outputs": [
    {
     "ename": "AttributeError",
     "evalue": "'list' object has no attribute 'values'",
     "output_type": "error",
     "traceback": [
      "\u001b[0;31m---------------------------------------------------------------------------\u001b[0m",
      "\u001b[0;31mAttributeError\u001b[0m                            Traceback (most recent call last)",
      "\u001b[0;32m<ipython-input-74-a749ae0e0145>\u001b[0m in \u001b[0;36m<module>\u001b[0;34m\u001b[0m\n\u001b[0;32m----> 1\u001b[0;31m \u001b[0mdocs\u001b[0m\u001b[0;34m.\u001b[0m\u001b[0mvalues\u001b[0m\u001b[0;34m(\u001b[0m\u001b[0;34m)\u001b[0m\u001b[0;34m\u001b[0m\u001b[0;34m\u001b[0m\u001b[0m\n\u001b[0m",
      "\u001b[0;31mAttributeError\u001b[0m: 'list' object has no attribute 'values'"
     ]
    }
   ],
   "source": [
    "docs.values()"
   ]
  },
  {
   "cell_type": "code",
   "execution_count": 66,
   "metadata": {},
   "outputs": [],
   "source": [
    "docs = list(docs.values())"
   ]
  },
  {
   "cell_type": "code",
   "execution_count": 68,
   "metadata": {},
   "outputs": [
    {
     "data": {
      "text/plain": [
       "['DODF 182 24-09-2019',\n",
       " 'DODF 181 23-09-2019',\n",
       " 'DODF 180 20-09-2019',\n",
       " 'DODF 068 20-09-2019 EDICAO EXTRA',\n",
       " 'DODF 179 19-09-2019',\n",
       " 'DODF 067 19-09-2019 EDICAO EXTRA',\n",
       " 'DODF 178 18-09-2019',\n",
       " 'DODF 177 17-09-2019',\n",
       " 'DODF 176 16-09-2019',\n",
       " 'DODF 066 16-09-2019 EDICAO EXTRA',\n",
       " 'DODF 065 13-09-2019 EDICAO EXTRA',\n",
       " 'DODF 175 13-09-2019',\n",
       " 'DODF 174 12-09-2019',\n",
       " 'DODF 064 11-09-2019 EDICAO EXTRA',\n",
       " 'DODF 173 11-09-2019',\n",
       " 'DODF 172 10-09-2019',\n",
       " 'DODF 063 09-09-2019 EDICAO EXTRA',\n",
       " 'DODF 171 09-09-2019',\n",
       " 'DODF 062 06-09-2019 EDICAO EXTRA',\n",
       " 'DODF 170 06-09-2019',\n",
       " 'DODF 169 05-09-2019',\n",
       " 'DODF 061 05-09-2019 EDICAO EXTRA',\n",
       " 'DODF 060 04-09-2019 EDICAO EXTRA',\n",
       " 'DODF 168 04-09-2019',\n",
       " 'DODF 167 03-09-2019',\n",
       " 'DODF 166 02-09-2019']"
      ]
     },
     "execution_count": 68,
     "metadata": {},
     "output_type": "execute_result"
    }
   ],
   "source": [
    "docs"
   ]
  },
  {
   "cell_type": "code",
   "execution_count": 52,
   "metadata": {},
   "outputs": [],
   "source": [
    "params = crawler_params('2019/09_Setembro/DODF 182 24-09-2019')\n",
    "response = requests.post(base_url, headers=headers, params=params, cookies=cookies)"
   ]
  },
  {
   "cell_type": "code",
   "execution_count": 54,
   "metadata": {},
   "outputs": [
    {
     "data": {
      "text/plain": [
       "['2019/09_Setembro/DODF 182 24-09-2019/DODF 182 24-09-2019 INTEGRA.pdf']"
      ]
     },
     "execution_count": 54,
     "metadata": {},
     "output_type": "execute_result"
    }
   ],
   "source": [
    "json.loads(response.text)['data']"
   ]
  }
 ],
 "metadata": {
  "kernelspec": {
   "display_name": "Python 3",
   "language": "python",
   "name": "python3"
  },
  "language_info": {
   "codemirror_mode": {
    "name": "ipython",
    "version": 3
   },
   "file_extension": ".py",
   "mimetype": "text/x-python",
   "name": "python",
   "nbconvert_exporter": "python",
   "pygments_lexer": "ipython3",
   "version": "3.6.8"
  }
 },
 "nbformat": 4,
 "nbformat_minor": 4
}
