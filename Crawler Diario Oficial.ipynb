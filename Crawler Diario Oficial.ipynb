{
 "cells": [
  {
   "cell_type": "markdown",
   "metadata": {},
   "source": [
    "download de pdf usando requests lendo pdf direto do buffer da memoria"
   ]
  },
  {
   "cell_type": "code",
   "execution_count": 1,
   "metadata": {},
   "outputs": [],
   "source": [
    "# file = requests.get('https://www.dodf.df.gov.br/index/visualizar-arquivo/?pasta=2019|09_Setembro|DODF%20185%2027-09-2019|&arquivo=DODF%20185%2027-09-2019%20INTEGRA.pdf')\n",
    "\n",
    "# with open('novo_test.pdf','wb') as arqv:\n",
    "#     arqv.write(file.content)\n",
    "\n",
    "# file = requests.get('https://www.dodf.df.gov.br/index/visualizar-arquivo/?pasta=2019|09_Setembro|DODF%20185%2027-09-2019|&arquivo=DODF%20185%2027-09-2019%20INTEGRA.pdf')\n",
    "# pdf = PyPDF2.PdfFileReader(io.BytesIO(file.content))\n",
    "# pdf.numPages"
   ]
  },
  {
   "cell_type": "code",
   "execution_count": 2,
   "metadata": {},
   "outputs": [],
   "source": [
    "import requests\n",
    "from bs4 import BeautifulSoup\n",
    "import PyPDF2\n",
    "import io\n",
    "import re\n",
    "from multiprocessing.pool import ThreadPool\n",
    "import pandas as pd"
   ]
  },
  {
   "cell_type": "code",
   "execution_count": 3,
   "metadata": {},
   "outputs": [],
   "source": [
    "cookies = {\n",
    "    '_ga': 'GA1.4.1676642850.1569274904',\n",
    "    '_gid': 'GA1.4.30087383.1569274904',\n",
    "    'PHPSESSID': 'c8gp0cncq0bshqvnkq5ng3d0g7',\n",
    "}\n",
    "\n",
    "headers = {\n",
    "    'Sec-Fetch-Mode': 'cors',\n",
    "    'Sec-Fetch-Site': 'same-origin',\n",
    "    'Origin': 'https://www.dodf.df.gov.br',\n",
    "    'Accept-Encoding': 'gzip, deflate, br',\n",
    "    'Accept-Language': 'en,en-US;q=0.9,pt-BR;q=0.8,pt;q=0.7',\n",
    "    'User-Agent': 'Mozilla/5.0 (X11; Linux x86_64) AppleWebKit/537.36 (KHTML, like Gecko) Chrome/77.0.3865.90 Safari/537.36',\n",
    "    'Accept': '*/*',\n",
    "    'Referer': 'https://www.dodf.df.gov.br/listar',\n",
    "    'X-Requested-With': 'XMLHttpRequest',\n",
    "    'Connection': 'keep-alive',\n",
    "    'Content-Length': '0',\n",
    "}"
   ]
  },
  {
   "cell_type": "code",
   "execution_count": 4,
   "metadata": {},
   "outputs": [],
   "source": [
    "base_url = \"https://www.dodf.df.gov.br/listar\""
   ]
  },
  {
   "cell_type": "code",
   "execution_count": 6,
   "metadata": {},
   "outputs": [],
   "source": [
    "params = (('dir', '/'),)\n",
    "response = requests.post(base_url, headers=headers, params=params, cookies=cookies)\n",
    "years = response.json()['data'][:4]\n",
    "years = list(map(lambda x:str(x),years))\n",
    "\n",
    "all_docs = []\n",
    "for year in years:\n",
    "    params = (('dir', year),)\n",
    "    response = requests.post(base_url, headers=headers, params=params, cookies=cookies)\n",
    "    months = response.json()['data']\n",
    "    for month in months:\n",
    "        params = (('dir', year+'/'+month),)\n",
    "        response = requests.post(base_url, headers=headers, params=params, cookies=cookies)\n",
    "        docs = response.json()['data']\n",
    "        docs = list(docs.values())\n",
    "        for doc in docs:\n",
    "            params = (('dir', year+'/'+month+'/'+doc),)\n",
    "            response = requests.post(base_url, headers=headers, params=params, cookies=cookies)\n",
    "            all_docs.append(response.json()['data'][0])"
   ]
  },
  {
   "cell_type": "code",
   "execution_count": 15,
   "metadata": {},
   "outputs": [],
   "source": [
    "#tentar fazer sem a pandas\n",
    "# all_docs = [re.sub(pattern=r\"(MarÃ§o)\", repl=\"Março\", string=doc) for doc in all_docs]\n",
    "# all_docs = pd.DataFrame(all_docs)\n",
    "# all_docs.to_csv('all_documents.csv',index=False,header=False)"
   ]
  },
  {
   "cell_type": "code",
   "execution_count": 5,
   "metadata": {},
   "outputs": [],
   "source": [
    "with open('all_documents.csv','r') as file:\n",
    "    all_docs = file.readlines()"
   ]
  },
  {
   "cell_type": "code",
   "execution_count": 6,
   "metadata": {},
   "outputs": [],
   "source": [
    "all_docs = [re.sub(pattern=r\"(\\n)\", repl=\"\", string=doc) for doc in all_docs]"
   ]
  },
  {
   "cell_type": "code",
   "execution_count": 8,
   "metadata": {},
   "outputs": [],
   "source": [
    "all_docs = all_docs[:5]"
   ]
  },
  {
   "cell_type": "code",
   "execution_count": 9,
   "metadata": {},
   "outputs": [
    {
     "data": {
      "text/plain": [
       "['2019/09_Setembro/DODF 185 27-09-2019/DODF 185 27-09-2019 INTEGRA.pdf',\n",
       " '2019/09_Setembro/DODF 070 27-09-2019 EDICAO EXTRA/DODF 070 27-09-2019 EDICAO EXTRA.pdf',\n",
       " '2019/09_Setembro/DODF 184 26-09-2019/DODF 184 26-09-2019 INTEGRA.pdf',\n",
       " '2019/09_Setembro/DODF 069 25-09-2019 EDICAO EXTRA/DODF 069 25-09-2019 EDICAO EXTRA.pdf',\n",
       " '2019/09_Setembro/DODF 183 25-09-2019/DODF 183 25-09-2019 INTEGRA.pdf']"
      ]
     },
     "execution_count": 9,
     "metadata": {},
     "output_type": "execute_result"
    }
   ],
   "source": [
    "all_docs"
   ]
  },
  {
   "cell_type": "code",
   "execution_count": 13,
   "metadata": {},
   "outputs": [],
   "source": [
    "pool = ThreadPool(2)"
   ]
  },
  {
   "cell_type": "code",
   "execution_count": 14,
   "metadata": {},
   "outputs": [],
   "source": [
    "all_data = {}\n",
    "def handler(string):\n",
    "    st_p, nd_p, rd_p, th_p = \\\n",
    "    re.sub(pattern=r\"\\s\", repl=\"%20\",string=string).split('/')\n",
    "    url = \"https://www.dodf.df.gov.br/index/visualizar-arquivo/?pasta=\"+st_p+\"|\"+nd_p+\"|\"+rd_p+\"|&arquivo=\"+th_p\n",
    "    pdf = requests.get(url)\n",
    "    key = string.split('/')[-1]\n",
    "    all_data[key] = pdf\n",
    "#     with open(\"./docs/\"+th_p,'wb') as file:\n",
    "#             file.write(pdf.content)\n",
    "    return all_data"
   ]
  },
  {
   "cell_type": "code",
   "execution_count": 16,
   "metadata": {},
   "outputs": [
    {
     "name": "stdout",
     "output_type": "stream",
     "text": [
      "{'DODF 070 27-09-2019 EDICAO EXTRA.pdf': <Response [200]>, 'DODF 185 27-09-2019 INTEGRA.pdf': <Response [200]>, 'DODF 069 25-09-2019 EDICAO EXTRA.pdf': <Response [200]>, 'DODF 184 26-09-2019 INTEGRA.pdf': <Response [200]>, 'DODF 183 25-09-2019 INTEGRA.pdf': <Response [200]>}\n",
      "{'DODF 070 27-09-2019 EDICAO EXTRA.pdf': <Response [200]>, 'DODF 185 27-09-2019 INTEGRA.pdf': <Response [200]>, 'DODF 069 25-09-2019 EDICAO EXTRA.pdf': <Response [200]>, 'DODF 184 26-09-2019 INTEGRA.pdf': <Response [200]>, 'DODF 183 25-09-2019 INTEGRA.pdf': <Response [200]>}\n",
      "{'DODF 070 27-09-2019 EDICAO EXTRA.pdf': <Response [200]>, 'DODF 185 27-09-2019 INTEGRA.pdf': <Response [200]>, 'DODF 069 25-09-2019 EDICAO EXTRA.pdf': <Response [200]>, 'DODF 184 26-09-2019 INTEGRA.pdf': <Response [200]>, 'DODF 183 25-09-2019 INTEGRA.pdf': <Response [200]>}\n",
      "{'DODF 070 27-09-2019 EDICAO EXTRA.pdf': <Response [200]>, 'DODF 185 27-09-2019 INTEGRA.pdf': <Response [200]>, 'DODF 069 25-09-2019 EDICAO EXTRA.pdf': <Response [200]>, 'DODF 184 26-09-2019 INTEGRA.pdf': <Response [200]>, 'DODF 183 25-09-2019 INTEGRA.pdf': <Response [200]>}\n",
      "{'DODF 070 27-09-2019 EDICAO EXTRA.pdf': <Response [200]>, 'DODF 185 27-09-2019 INTEGRA.pdf': <Response [200]>, 'DODF 069 25-09-2019 EDICAO EXTRA.pdf': <Response [200]>, 'DODF 184 26-09-2019 INTEGRA.pdf': <Response [200]>, 'DODF 183 25-09-2019 INTEGRA.pdf': <Response [200]>}\n"
     ]
    }
   ],
   "source": [
    "for i in pool.map(handler, all_docs):\n",
    "    print(i)"
   ]
  },
  {
   "cell_type": "code",
   "execution_count": null,
   "metadata": {},
   "outputs": [],
   "source": []
  }
 ],
 "metadata": {
  "kernelspec": {
   "display_name": "Python 3",
   "language": "python",
   "name": "python3"
  },
  "language_info": {
   "codemirror_mode": {
    "name": "ipython",
    "version": 3
   },
   "file_extension": ".py",
   "mimetype": "text/x-python",
   "name": "python",
   "nbconvert_exporter": "python",
   "pygments_lexer": "ipython3",
   "version": "3.6.8"
  }
 },
 "nbformat": 4,
 "nbformat_minor": 4
}
