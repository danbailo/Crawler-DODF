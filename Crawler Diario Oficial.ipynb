{
 "cells": [
  {
   "cell_type": "markdown",
   "metadata": {},
   "source": [
    "download de pdf usando requests lendo pdf direto do buffer da memoria"
   ]
  },
  {
   "cell_type": "code",
   "execution_count": 41,
   "metadata": {},
   "outputs": [],
   "source": [
    "# file = requests.get('https://www.dodf.df.gov.br/index/visualizar-arquivo/?pasta=2019|09_Setembro|DODF%20185%2027-09-2019|&arquivo=DODF%20185%2027-09-2019%20INTEGRA.pdf')\n",
    "\n",
    "# with open('novo_test.pdf','wb') as arqv:\n",
    "#     arqv.write(file.content)\n",
    "\n",
    "# file = requests.get('https://www.dodf.df.gov.br/index/visualizar-arquivo/?pasta=2019|09_Setembro|DODF%20185%2027-09-2019|&arquivo=DODF%20185%2027-09-2019%20INTEGRA.pdf')\n",
    "# pdf = PyPDF2.PdfFileReader(io.BytesIO(file.content))\n",
    "# pdf.numPages"
   ]
  },
  {
   "cell_type": "code",
   "execution_count": 181,
   "metadata": {},
   "outputs": [],
   "source": [
    "import requests\n",
    "from bs4 import BeautifulSoup\n",
    "import PyPDF2\n",
    "import io\n",
    "import re\n",
    "from multiprocessing.pool import ThreadPool\n",
    "import pandas as pd"
   ]
  },
  {
   "cell_type": "code",
   "execution_count": 2,
   "metadata": {},
   "outputs": [],
   "source": [
    "base_url = \"https://www.dodf.df.gov.br/listar\""
   ]
  },
  {
   "cell_type": "code",
   "execution_count": 3,
   "metadata": {},
   "outputs": [],
   "source": [
    "import requests\n",
    "\n",
    "cookies = {\n",
    "    '_ga': 'GA1.4.1676642850.1569274904',\n",
    "    '_gid': 'GA1.4.30087383.1569274904',\n",
    "    'PHPSESSID': 'c8gp0cncq0bshqvnkq5ng3d0g7',\n",
    "}\n",
    "\n",
    "headers = {\n",
    "    'Sec-Fetch-Mode': 'cors',\n",
    "    'Sec-Fetch-Site': 'same-origin',\n",
    "    'Origin': 'https://www.dodf.df.gov.br',\n",
    "    'Accept-Encoding': 'gzip, deflate, br',\n",
    "    'Accept-Language': 'en,en-US;q=0.9,pt-BR;q=0.8,pt;q=0.7',\n",
    "    'User-Agent': 'Mozilla/5.0 (X11; Linux x86_64) AppleWebKit/537.36 (KHTML, like Gecko) Chrome/77.0.3865.90 Safari/537.36',\n",
    "    'Accept': '*/*',\n",
    "    'Referer': 'https://www.dodf.df.gov.br/listar',\n",
    "    'X-Requested-With': 'XMLHttpRequest',\n",
    "    'Connection': 'keep-alive',\n",
    "    'Content-Length': '0',\n",
    "}"
   ]
  },
  {
   "cell_type": "code",
   "execution_count": 5,
   "metadata": {},
   "outputs": [],
   "source": [
    "def crawler_params(directory):\n",
    "    params = (('dir', directory),)\n",
    "    return params"
   ]
  },
  {
   "cell_type": "code",
   "execution_count": 19,
   "metadata": {},
   "outputs": [
    {
     "data": {
      "text/plain": [
       "'{\"type\":\"success\",\"result\":true,\"dir\":\"2019\\\\/09_Setembro\\\\/\",\"data\":{\"20190927107\":\"DODF 185 27-09-2019\",\"20190927100\":\"DODF 070 27-09-2019 EDICAO EXTRA\",\"20190926100\":\"DODF 184 26-09-2019\",\"20190925106\":\"DODF 069 25-09-2019 EDICAO EXTRA\",\"20190925100\":\"DODF 183 25-09-2019\",\"20190924100\":\"DODF 182 24-09-2019\",\"20190923100\":\"DODF 181 23-09-2019\",\"20190920105\":\"DODF 180 20-09-2019\",\"20190920100\":\"DODF 068 20-09-2019 EDICAO EXTRA\",\"20190919103\":\"DODF 179 19-09-2019\",\"20190919100\":\"DODF 067 19-09-2019 EDICAO EXTRA\",\"20190918100\":\"DODF 178 18-09-2019\",\"20190917100\":\"DODF 177 17-09-2019\",\"20190916109\":\"DODF 176 16-09-2019\",\"20190916100\":\"DODF 066 16-09-2019 EDICAO EXTRA\",\"20190913101\":\"DODF 065 13-09-2019 EDICAO EXTRA\",\"20190913100\":\"DODF 175 13-09-2019\",\"20190912100\":\"DODF 174 12-09-2019\",\"20190911104\":\"DODF 064 11-09-2019 EDICAO EXTRA\",\"20190911100\":\"DODF 173 11-09-2019\",\"20190910100\":\"DODF 172 10-09-2019\",\"20190909110\":\"DODF 063 09-09-2019 EDICAO EXTRA\",\"20190909100\":\"DODF 171 09-09-2019\",\"20190906108\":\"DODF 062 06-09-2019 EDICAO EXTRA\",\"20190906100\":\"DODF 170 06-09-2019\",\"20190905111\":\"DODF 169 05-09-2019\",\"20190905100\":\"DODF 061 05-09-2019 EDICAO EXTRA\",\"20190904102\":\"DODF 060 04-09-2019 EDICAO EXTRA\",\"20190904100\":\"DODF 168 04-09-2019\",\"20190903100\":\"DODF 167 03-09-2019\",\"20190902100\":\"DODF 166 02-09-2019\"}}'"
      ]
     },
     "execution_count": 19,
     "metadata": {},
     "output_type": "execute_result"
    }
   ],
   "source": [
    "params = crawler_params('2019/09_Setembro/')\n",
    "response = requests.post(base_url, headers=headers, params=params, cookies=cookies)\n",
    "response.text"
   ]
  },
  {
   "cell_type": "code",
   "execution_count": 131,
   "metadata": {},
   "outputs": [
    {
     "data": {
      "text/plain": [
       "'{\"type\":\"success\",\"result\":true,\"dir\":\"2019\\\\/09_Setembro\\\\/DODF 070 27-09-2019 EDICAO EXTRA\",\"data\":[\"2019\\\\/09_Setembro\\\\/DODF 070 27-09-2019 EDICAO EXTRA\\\\/DODF 070 27-09-2019 EDICAO EXTRA.pdf\"]}'"
      ]
     },
     "execution_count": 131,
     "metadata": {},
     "output_type": "execute_result"
    }
   ],
   "source": [
    "params = crawler_params('2019/09_Setembro/DODF 070 27-09-2019 EDICAO EXTRA')\n",
    "response = requests.post(base_url, headers=headers, params=params, cookies=cookies)\n",
    "response.text"
   ]
  },
  {
   "cell_type": "code",
   "execution_count": 132,
   "metadata": {},
   "outputs": [
    {
     "data": {
      "text/plain": [
       "{'type': 'success',\n",
       " 'result': True,\n",
       " 'dir': '2019/09_Setembro/DODF 070 27-09-2019 EDICAO EXTRA',\n",
       " 'data': ['2019/09_Setembro/DODF 070 27-09-2019 EDICAO EXTRA/DODF 070 27-09-2019 EDICAO EXTRA.pdf']}"
      ]
     },
     "execution_count": 132,
     "metadata": {},
     "output_type": "execute_result"
    }
   ],
   "source": [
    "response.json()"
   ]
  },
  {
   "cell_type": "code",
   "execution_count": 133,
   "metadata": {},
   "outputs": [],
   "source": [
    "string = response.json()['data'][0]"
   ]
  },
  {
   "cell_type": "code",
   "execution_count": 134,
   "metadata": {},
   "outputs": [
    {
     "data": {
      "text/plain": [
       "'2019/09_Setembro/DODF 070 27-09-2019 EDICAO EXTRA/DODF 070 27-09-2019 EDICAO EXTRA.pdf'"
      ]
     },
     "execution_count": 134,
     "metadata": {},
     "output_type": "execute_result"
    }
   ],
   "source": [
    "string"
   ]
  },
  {
   "cell_type": "code",
   "execution_count": 156,
   "metadata": {},
   "outputs": [],
   "source": [
    "first_param, second_param, third_param, fourth_param = re.sub(pattern=r\"\\s\", repl=\"%20\",string=string).split('/')"
   ]
  },
  {
   "cell_type": "code",
   "execution_count": 153,
   "metadata": {},
   "outputs": [],
   "source": [
    "requests.get(\"https://www.dodf.df.gov.br/index/visualizar-arquivo/?pasta=\"+first_param+\"|\"+second_param+\"|\"+third_param+\"|&arquivo=\"+fourth_param)"
   ]
  },
  {
   "cell_type": "code",
   "execution_count": 200,
   "metadata": {},
   "outputs": [],
   "source": [
    "def get_url_to_request(string):\n",
    "    st_param, nd_param, rd_param, th_param = \\\n",
    "    re.sub(pattern=r\"\\s\", repl=\"%20\",string=string).split('/')\n",
    "    return th_param, \"https://www.dodf.df.gov.br/index/visualizar-arquivo/?pasta=\"+st_p+\"|\"+nd_p+\"|\"+rd_p+\"|&arquivo=\"+th_p"
   ]
  },
  {
   "cell_type": "code",
   "execution_count": 201,
   "metadata": {},
   "outputs": [],
   "source": [
    "def get_file(th_param, url):\n",
    "    file = requests.get(url)\n",
    "    with open(th_param,'wb') as arqv:\n",
    "        arqv.write(file.content)"
   ]
  },
  {
   "cell_type": "code",
   "execution_count": 157,
   "metadata": {},
   "outputs": [],
   "source": [
    "params = (('dir', '/'),)\n",
    "response = requests.post(base_url, headers=headers, params=params, cookies=cookies)\n",
    "years = json.loads(response.text)['data'][:4]\n",
    "years = list(map(lambda x:str(x),years))\n",
    "\n",
    "all_docs = []\n",
    "for year in years:\n",
    "    params = (('dir', year),)\n",
    "    response = requests.post(base_url, headers=headers, params=params, cookies=cookies)\n",
    "    months = json.loads(response.text)['data']\n",
    "    for month in months:\n",
    "        params = (('dir', year+'/'+month),)\n",
    "        response = requests.post(base_url, headers=headers, params=params, cookies=cookies)\n",
    "        docs = json.loads(response.text)['data']\n",
    "        docs = list(docs.values())\n",
    "        for doc in docs:\n",
    "            params = (('dir', year+'/'+month+'/'+doc),)\n",
    "            response = requests.post(base_url, headers=headers, params=params, cookies=cookies)\n",
    "            all_docs.append(response.json()['data'][0])"
   ]
  },
  {
   "cell_type": "code",
   "execution_count": null,
   "metadata": {},
   "outputs": [],
   "source": [
    "all_docs = [re.sub(pattern=r\"(MarÃ§o)\", repl=\"Março\", string=doc) for doc in all_docs]"
   ]
  },
  {
   "cell_type": "code",
   "execution_count": 178,
   "metadata": {},
   "outputs": [],
   "source": [
    "all_docs = pd.DataFrame(all_docs)"
   ]
  },
  {
   "cell_type": "code",
   "execution_count": 179,
   "metadata": {},
   "outputs": [],
   "source": [
    "all_docs.to_csv('all_documents.csv',index=False)"
   ]
  },
  {
   "cell_type": "code",
   "execution_count": null,
   "metadata": {},
   "outputs": [],
   "source": [
    "ThreadPool(8).map(requests.get(get_url_to_request), all_docs)"
   ]
  }
 ],
 "metadata": {
  "kernelspec": {
   "display_name": "Python 3",
   "language": "python",
   "name": "python3"
  },
  "language_info": {
   "codemirror_mode": {
    "name": "ipython",
    "version": 3
   },
   "file_extension": ".py",
   "mimetype": "text/x-python",
   "name": "python",
   "nbconvert_exporter": "python",
   "pygments_lexer": "ipython3",
   "version": "3.6.8"
  }
 },
 "nbformat": 4,
 "nbformat_minor": 4
}
